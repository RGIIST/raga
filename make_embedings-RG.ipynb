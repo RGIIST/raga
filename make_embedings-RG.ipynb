{
 "cells": [
  {
   "cell_type": "code",
   "execution_count": 1,
   "id": "4f2cc420-80f0-4d5a-bcb0-d870ea0e3105",
   "metadata": {
    "tags": []
   },
   "outputs": [],
   "source": [
    "import cv2\n",
    "import numpy as np\n",
    "import matplotlib.pyplot as plt\n",
    "import os\n",
    "import shutil\n",
    "import pandas as pd\n",
    "from tqdm import tqdm\n",
    "import pickle"
   ]
  },
  {
   "cell_type": "code",
   "execution_count": 3,
   "id": "b0678a10-5777-43bd-88c8-fa66244d6abf",
   "metadata": {},
   "outputs": [],
   "source": [
    "weights_file = \"LM_FF_Mar_28_2_2022_Speed_Stop_Vehicle_416_256.weights\"\n",
    "cfg_file = \"LM_FF_America_Speed_Stop_vehicles_416_256.cfg\"\n",
    "class_file = \"class.txt\"\n",
    "img_size=(416,256)\n",
    "\n",
    "# weights_file = \"TinyYolov3/Weight_files/yolov3-tiny-america_best.weights\"\n",
    "# cfg_file = \"TinyYolov3/Cfg_files/yolov3-tiny-america.cfg\"\n",
    "# class_file=\"TinyYolov3/Class_files/america_classes.txt\"\n",
    "# img_size=(416,416)\n",
    "\n",
    "scale=0.00392\n",
    "fps=10.0\n",
    "W,H=640, 360\n",
    "Width,Height=640, 360\n",
    "\n",
    "# vid_path=os.path.join('../../../datasets/lightmetrics_data/videos_dataset/HarshBraking',\n",
    "# 'eventVideo_sensor_Harsh-Braking_trip_master_2022_03_15_00_27_24_887_A7F144D8F6A1255B7D44B5B861A28475AB24F23B_VgHgv_4_1647305450748_primary_2022_03_15_00_50_50_748.mp4')\n",
    "net = cv2.dnn.readNet(weights_file,cfg_file)\n",
    "with open(class_file, 'r') as f:\n",
    "    america_class_names = [line.strip() for line in f.readlines()]\n",
    "\n",
    "COLORS = np.random.uniform(0, 255, size=(len(america_class_names), 3))\n",
    "def get_output_layers(net):\n",
    "    layer_names = net.getLayerNames()\n",
    "    output_layers = [layer_names[i - 1] for i in net.getUnconnectedOutLayers()]\n",
    "    return output_layers\n",
    "\n",
    "def draw_bounding_box(img, cnames, class_id, confidence, x, y, x_plus_w, y_plus_h):\n",
    "    label = str(cnames[class_id])\n",
    "    color = COLORS[class_id]\n",
    "    cv2.rectangle(img, (x, y), (x_plus_w, y_plus_h), color, 2)\n",
    "    cv2.putText(img, label, (x-10, y-10), cv2.FONT_HERSHEY_SIMPLEX, 0.5, color, 2)\n",
    "    return img"
   ]
  },
  {
   "cell_type": "code",
   "execution_count": 185,
   "id": "281f0199-3fd8-4646-89ca-faad1d360e8d",
   "metadata": {},
   "outputs": [],
   "source": [
    "# cap = cv2.VideoCapture(vid_path)\n",
    "# vid_out=cv2.VideoWriter(\"dataset/Braking_trip_master_2022_03_15_00_27_24_887_A7F144D8F6A1255B7D44B5B861A28475AB24F23B_VgHgv_4_1647305450748_primary_2022_03_15_00_50_50_748.mp4\",cv2.VideoWriter_fourcc(*'mp4v'),fps,(W,H))\n",
    "# while True:\n",
    "#     ret,color_img=cap.read()\n",
    "#     if not ret:\n",
    "#         break\n",
    "#     # image=color_img\n",
    "#     image= cv2.cvtColor(color_img, cv2.COLOR_BGR2GRAY)\n",
    "#     blob = cv2.dnn.blobFromImage(image, scale, img_size, (0,0,0), True, crop=False)\n",
    "#     net.setInput(blob)\n",
    "#     outs = net.forward(get_output_layers(net))\n",
    "#     class_ids = []\n",
    "#     confidences = []\n",
    "#     boxes = []\n",
    "#     conf_threshold = 0.3\n",
    "#     nms_threshold = 0.4\n",
    "#     count = 0\n",
    "#     for out in outs:\n",
    "#         for detection in out:\n",
    "#             scores=detection[5:]\n",
    "#             count += 1\n",
    "#             class_id = np.argmax(scores)\n",
    "#             confidence = scores[class_id]\n",
    "#             if confidence > conf_threshold:\n",
    "#                 center_x = int(detection[0] * Width)\n",
    "#                 center_y = int(detection[1] * Height)\n",
    "#                 w = int(detection[2] * Width)\n",
    "#                 h = int(detection[3] * Height)\n",
    "#                 x = center_x - w / 2\n",
    "#                 y = center_y - h / 2\n",
    "#                 class_ids.append(class_id)\n",
    "#                 confidences.append(float(confidence))\n",
    "#                 boxes.append([x, y, w, h])\n",
    "#     indices = cv2.dnn.NMSBoxes(boxes, confidences, conf_threshold, nms_threshold)\n",
    "#     drawn_image = color_img\n",
    "\n",
    "#     for i in indices:\n",
    "#         number = 0\n",
    "#         box = boxes[i]\n",
    "#         x = max(int(box[0]),0)\n",
    "#         y = max(int(box[1]),0)\n",
    "#         w = int(box[2])\n",
    "#         h = int(box[3])\n",
    "\n",
    "#         if(class_ids[i] == 0 or class_ids[i] == 1 or class_ids[i] == 2):\n",
    "#             drawn_image = draw_bounding_box(color_img, america_class_names, class_ids[i], confidences[i], round(x), round(y), round(x+w), round(y+h))\n",
    "#     vid_out.write(drawn_image)\n",
    "            \n",
    "# cap.release()\n",
    "# vid_out.release()"
   ]
  },
  {
   "cell_type": "code",
   "execution_count": null,
   "id": "c8c30c56-dd92-4e5b-9b46-37977af2c3a1",
   "metadata": {},
   "outputs": [
    {
     "name": "stderr",
     "output_type": "stream",
     "text": [
      "1773it [1:25:30,  2.78s/it]"
     ]
    }
   ],
   "source": [
    "folders=os.listdir('../../../datasets/lightmetrics_data/videos_dataset')\n",
    "folders.remove('Untitled.ipynb')\n",
    "vid_out=cv2.VideoWriter(\"dataset/videos/LM_FF_America.mp4\",cv2.VideoWriter_fourcc(*'mp4v'),fps,(W,H))\n",
    "for folder in folders:\n",
    "    videos=os.listdir(os.path.join('../../../datasets/lightmetrics_data/videos_dataset',folder))\n",
    "    for video_num,video in tqdm(enumerate(videos)):\n",
    "        if 'mp4' in video:\n",
    "            cap = cv2.VideoCapture(os.path.join('../../../datasets/lightmetrics_data/videos_dataset',folder,video))\n",
    "            frame=0\n",
    "            while True:\n",
    "                ret,color_img=cap.read()\n",
    "                frame+=1\n",
    "                if not ret:\n",
    "                    break\n",
    "                # image=color_img   # Uncomment for tinyyolo, comment for LM_FF\n",
    "                image= cv2.cvtColor(color_img, cv2.COLOR_BGR2GRAY)  # comment for tinyyolo, Uncomment for LM_FF\n",
    "                blob = cv2.dnn.blobFromImage(image, scale, img_size, (0,0,0), True, crop=False)\n",
    "                net.setInput(blob)\n",
    "                outs = net.forward(get_output_layers(net))\n",
    "                class_ids = []\n",
    "                confidences = []\n",
    "                boxes = []\n",
    "                conf_threshold = 0.3\n",
    "                nms_threshold = 0.4\n",
    "                count = 0\n",
    "                for out in outs:\n",
    "                    for detection in out:\n",
    "                        scores=detection[5:]\n",
    "                        count += 1\n",
    "                        class_id = np.argmax(scores)\n",
    "                        confidence = scores[class_id]\n",
    "                        if confidence > conf_threshold:\n",
    "                            center_x = int(detection[0] * Width)\n",
    "                            center_y = int(detection[1] * Height)\n",
    "                            w = int(detection[2] * Width)\n",
    "                            h = int(detection[3] * Height)\n",
    "                            x = center_x - w / 2\n",
    "                            y = center_y - h / 2\n",
    "                            class_ids.append(class_id)\n",
    "                            confidences.append(float(confidence))\n",
    "                            boxes.append([x, y, w, h])\n",
    "                indices = cv2.dnn.NMSBoxes(boxes, confidences, conf_threshold, nms_threshold)\n",
    "                drawn_image = color_img\n",
    "\n",
    "                for i in indices:\n",
    "                    number = 0\n",
    "                    box = boxes[i]\n",
    "                    x = max(int(box[0]),0)\n",
    "                    y = max(int(box[1]),0)\n",
    "                    w = int(box[2])\n",
    "                    h = int(box[3])\n",
    "\n",
    "                    if(class_ids[i] == 0 or class_ids[i] == 1 or class_ids[i] == 2):\n",
    "                        drawn_image = draw_bounding_box(color_img, america_class_names, class_ids[i], confidences[i],\n",
    "                                                        round(x), round(y), round(x+w), round(y+h))\n",
    "                cv2.putText(drawn_image,'{} video: {},frame: {}'.format(folder,video_num+1,frame),\n",
    "                            (0,13),cv2.FONT_HERSHEY_COMPLEX_SMALL,0.9,(0, 155, 155),1)\n",
    "                vid_out.write(drawn_image)\n",
    "\n",
    "            cap.release()\n",
    "vid_out.release()"
   ]
  },
  {
   "cell_type": "code",
   "execution_count": 205,
   "id": "1b8b224b-dfc2-4a57-8e24-762232da1b30",
   "metadata": {},
   "outputs": [],
   "source": [
    "weights_file1 = \"TinyYolov3/Weight_files/yolov3-tiny-america_best.weights\"\n",
    "cfg_file1 = \"TinyYolov3/Cfg_files/yolov3-tiny-america.cfg\"\n",
    "class_file1=\"TinyYolov3/Class_files/america_classes.txt\"\n",
    "img_size1=(416,416)\n",
    "\n",
    "weights_file2 = \"LM_FF_Mar_28_2_2022_Speed_Stop_Vehicle_416_256.weights\"\n",
    "cfg_file2 = \"LM_FF_America_Speed_Stop_vehicles_416_256.cfg\"\n",
    "class_file2 = \"class.txt\"\n",
    "img_size2=(416,256)\n",
    "image1=cv2.imread('Image_S16_5.jpg')\n",
    "image2=cv2.cvtColor(image1, cv2.COLOR_BGR2GRAY)\n",
    "\n",
    "net1 = cv2.dnn.readNet(weights_file1,cfg_file1)\n",
    "net2 = cv2.dnn.readNet(weights_file2,cfg_file2)\n",
    "blob1 = cv2.dnn.blobFromImage(image1, scale, img_size1, (0,0,0), True, crop=False)\n",
    "net1.setInput(blob1)\n",
    "blob2 = cv2.dnn.blobFromImage(image2, scale, img_size2, (0,0,0), True, crop=False)\n",
    "net2.setInput(blob2)"
   ]
  },
  {
   "cell_type": "code",
   "execution_count": 231,
   "id": "0482b344-f28d-45f4-8d47-9ec16f0afd0c",
   "metadata": {},
   "outputs": [
    {
     "data": {
      "text/plain": [
       "(1, 64, 16, 26)"
      ]
     },
     "execution_count": 231,
     "metadata": {},
     "output_type": "execute_result"
    }
   ],
   "source": [
    "net2.forward(net2.getLayerNames()[-4]).shape"
   ]
  },
  {
   "attachments": {},
   "cell_type": "markdown",
   "id": "0783a4e3-0c31-49a0-8e1c-dfbcb5f295fd",
   "metadata": {},
   "source": [
    "## Embeddings and Inference"
   ]
  },
  {
   "cell_type": "code",
   "execution_count": 72,
   "id": "242ef019-09a3-4ddf-855b-883f21c37cb3",
   "metadata": {},
   "outputs": [],
   "source": [
    "import torch, json\n",
    "from mmcls.datasets import build_dataloader, build_dataset\n",
    "from mmcls.models import build_classifier\n",
    "import os, cv2\n",
    "import numpy as np\n",
    "import pandas as pd\n",
    "from tqdm import tqdm"
   ]
  },
  {
   "cell_type": "code",
   "execution_count": 313,
   "id": "c27bb7e0-7e00-4081-8c27-674a1cce3e9c",
   "metadata": {},
   "outputs": [],
   "source": [
    "file=torch.load('TinyYolov3/resnet50/resnet50_5x_224x224_weather_tag_bdd100k.pth')\n",
    "model1 = torch.hub.load(\"pytorch/vision\", \"resnet50\", weights=file['state_dict'])\n",
    "model2=build_classifier(dict(\n",
    "    type=\"ImageClassifier\",\n",
    "    backbone=dict(\n",
    "        type=\"ResNet\",\n",
    "        depth=50,\n",
    "        num_stages=4,\n",
    "        out_indices=(3,),\n",
    "        style=\"pytorch\",\n",
    "    ),\n",
    "    neck=dict(type=\"GlobalAveragePooling\"),\n",
    "    head=dict(\n",
    "        type=\"LinearClsHead\",\n",
    "        num_classes=7,\n",
    "        in_channels=2048,\n",
    "        loss=dict(type=\"CrossEntropyLoss\", loss_weight=1.0),\n",
    "    ),\n",
    "))\n",
    "model2.load_state_dict(file['state_dict'])\n",
    "model2.eval()"
   ]
  },
  {
   "cell_type": "code",
   "execution_count": 86,
   "id": "c52655b7-7d95-4cdf-9d1b-1e2e6bd3721d",
   "metadata": {},
   "outputs": [],
   "source": [
    "Files=['hb.json','ss.json','tg.json']\n",
    "gt=[]\n",
    "for File in Files:\n",
    "    with open(File,'r') as f:\n",
    "        gt.extend(json.load(f))"
   ]
  },
  {
   "cell_type": "code",
   "execution_count": 91,
   "id": "424efa19-36e8-459d-97eb-0909d7febf2c",
   "metadata": {},
   "outputs": [
    {
     "data": {
      "text/plain": [
       "'Sunny'"
      ]
     },
     "execution_count": 91,
     "metadata": {},
     "output_type": "execute_result"
    }
   ],
   "source": []
  },
  {
   "cell_type": "code",
   "execution_count": 116,
   "id": "989131c4-0c24-4703-a77b-9d6c35a7a0e3",
   "metadata": {},
   "outputs": [
    {
     "name": "stderr",
     "output_type": "stream",
     "text": [
      "100% 2092/2092 [1:02:47<00:00,  1.80s/it]\n",
      "100% 1463/1463 [47:26<00:00,  1.95s/it]\n",
      "100% 4602/4602 [2:40:02<00:00,  2.09s/it]  \n",
      "100% 1/1 [00:00<00:00, 5974.79it/s]\n",
      "100% 215/215 [00:00<00:00, 866258.75it/s]\n"
     ]
    }
   ],
   "source": [
    "CLASSES=['rainy', 'snowy', 'clear', 'overcast', 'undefined', 'partly cloudy', 'foggy']\n",
    "folders=os.listdir('../../../datasets/lightmetrics_data/videos_dataset')\n",
    "folders.remove('Untitled.ipynb')\n",
    "embedding=[]\n",
    "lengt=len(gt)\n",
    "final={'video':[],'embedding':[],'inference':[],'prediction':[],'gt':[]}\n",
    "for folder in folders:\n",
    "    videos=os.listdir(os.path.join('../../../datasets/lightmetrics_data/videos_dataset',folder))\n",
    "    for video in tqdm(videos):\n",
    "        if 'mp4' in video:\n",
    "            embeddings,inference,pred_cls,gt_label=[],[],[],[]\n",
    "            cap = cv2.VideoCapture(os.path.join('../../../datasets/lightmetrics_data/videos_dataset',folder,video))\n",
    "            frame=0\n",
    "            while True:\n",
    "                ret,color_img=cap.read()\n",
    "                frame+=10\n",
    "                cap.set(cv2.CAP_PROP_POS_FRAMES, frame)\n",
    "                if not ret:\n",
    "                    break\n",
    "                color_img=np.array(cv2.resize(color_img,(224,224)),dtype=np.float32)\n",
    "                out1=model1(torch.from_numpy(color_img).view(1,3,224,224))\n",
    "                out2=model2.forward_test(torch.from_numpy(color_img).view(1,3,224,224))\n",
    "                embeddings.append(out1[0].tolist())\n",
    "                embedding.append(out1[0].tolist())\n",
    "                inference.append(out2[0].tolist())\n",
    "                pred_cls.append(CLASSES[np.argmax(out2)])\n",
    "                for i in range(lengt):\n",
    "                    if gt[i]['inputs'][0]==video:\n",
    "                        gt_label.append(gt[i]['attributes']['weather'])\n",
    "                        break\n",
    "            cap.release()\n",
    "            final['video'].append(video)\n",
    "            final['embedding'].append(embeddings)\n",
    "            final['inference'].append(inference)\n",
    "            final['prediction'].append(pred_cls)\n",
    "            final['gt'].append(gt_label)\n",
    "            "
   ]
  },
  {
   "cell_type": "code",
   "execution_count": 119,
   "id": "096ecac6-7157-40b6-9200-224483771299",
   "metadata": {},
   "outputs": [
    {
     "data": {
      "text/plain": [
       "(8157, 8373)"
      ]
     },
     "execution_count": 119,
     "metadata": {},
     "output_type": "execute_result"
    }
   ],
   "source": [
    "len(final['video']),2092+1463+4602+1+215"
   ]
  },
  {
   "cell_type": "code",
   "execution_count": 131,
   "id": "4e65c6d0-d560-449d-8b53-2982e36953f0",
   "metadata": {},
   "outputs": [],
   "source": [
    "df_light=pd.DataFrame(final)#.to_csv('lightmetrics.csv',index=False)"
   ]
  },
  {
   "cell_type": "code",
   "execution_count": 124,
   "id": "2a05a72d-6088-4826-b2b4-f9866c592fbe",
   "metadata": {},
   "outputs": [],
   "source": [
    "from umap import UMAP\n",
    "import matplotlib.pyplot as plt\n",
    "from sklearn.preprocessing import StandardScaler"
   ]
  },
  {
   "cell_type": "code",
   "execution_count": 125,
   "id": "fcab4cca-46db-4024-b6a0-b1b937ce875d",
   "metadata": {},
   "outputs": [],
   "source": [
    "embed_dimesion=2\n",
    "reducer = UMAP(n_components=embed_dimesion, random_state=42)\n",
    "embed1 = reducer.fit_transform(StandardScaler().fit_transform(embedding))"
   ]
  },
  {
   "cell_type": "code",
   "execution_count": 129,
   "id": "9abc50d5-b2cf-4169-a54c-6e4a2faf8a6d",
   "metadata": {},
   "outputs": [
    {
     "name": "stderr",
     "output_type": "stream",
     "text": [
      "No artists with labels found to put in legend.  Note that artists whose label start with an underscore are ignored when legend() is called with no argument.\n"
     ]
    },
    {
     "data": {
      "image/png": "[encoded data removed]",
      "text/plain": [
       "<Figure size 720x720 with 1 Axes>"
      ]
     },
     "metadata": {
      "needs_background": "light"
     },
     "output_type": "display_data"
    }
   ],
   "source": [
    "f = plt.figure()\n",
    "f.set_figwidth(10)\n",
    "f.set_figheight(10)\n",
    "plt.title(\"lightMetrics embeddings\")\n",
    "plt.scatter(embed1[:,0],embed1[:,1])  #,c=labels\n",
    "plt.legend()\n",
    "plt.show()"
   ]
  },
  {
   "cell_type": "code",
   "execution_count": 130,
   "id": "672534de-189e-485a-8473-3cf3754ba04d",
   "metadata": {},
   "outputs": [
    {
     "data": {
      "text/plain": [
       "(94421, 94421)"
      ]
     },
     "execution_count": 130,
     "metadata": {},
     "output_type": "execute_result"
    }
   ],
   "source": [
    "len(embedding),len(embed1)"
   ]
  },
  {
   "cell_type": "code",
   "execution_count": null,
   "id": "b03460b7-5030-440b-b669-abd15f51ecac",
   "metadata": {},
   "outputs": [],
   "source": []
  },
  {
   "cell_type": "code",
   "execution_count": 198,
   "id": "bb9ca966-ea06-4682-93f8-14f2ca130bc6",
   "metadata": {},
   "outputs": [
    {
     "name": "stderr",
     "output_type": "stream",
     "text": [
      "8157it [00:04, 2030.67it/s]\n"
     ]
    }
   ],
   "source": [
    "# frame=10\n",
    "final_result={'video_name':[],'folder_name':[],'predicted_class':[]}\n",
    "HarshBraking=os.listdir(os.path.join('../../../datasets/lightmetrics_data/videos_dataset','HarshBraking'))\n",
    "TailGating=os.listdir(os.path.join('../../../datasets/lightmetrics_data/videos_dataset','TailGating'))\n",
    "StopSign=os.listdir(os.path.join('../../../datasets/lightmetrics_data/videos_dataset','StopSign'))\n",
    "SpeedSign=os.listdir(os.path.join('../../../datasets/lightmetrics_data/videos_dataset','SpeedSign'))\n",
    "\n",
    "for i in range(1000):\n",
    "    final_result[str(i)]=[]\n",
    "# for folder in folders:\n",
    "#     videos=os.listdir(os.path.join('../../../datasets/lightmetrics_data/videos_dataset',folder))\n",
    "#     for video in tqdm(videos):\n",
    "#         if 'mp4' in video:\n",
    "#             cap = cv2.VideoCapture(os.path.join('../../../datasets/lightmetrics_data/videos_dataset',folder,video)) \n",
    "#             while True:\n",
    "#                 cap.set(cv2.CAP_PROP_POS_FRAMES, frame)\n",
    "#                 ret,image=cap.read()\n",
    "#                 if not ret:\n",
    "#                     frame-=1\n",
    "#                     continue\n",
    "#                     if frame<0:\n",
    "#                         break\n",
    "#                 else:\n",
    "#                     frame=10\n",
    "#                     break\n",
    "#             image=np.array(cv2.resize(image,(224,224)),dtype=np.float32)\n",
    "#             out1=model1(torch.from_numpy(image).view(1,3,224,224))\n",
    "#             out2=model2.forward_test(torch.from_numpy(image).view(1,3,224,224))\n",
    "#             final_result['video_name'].append(video)\n",
    "#             final_result['folder_name'].append(folder)\n",
    "#             final_result['predicted_class'].append(CLASSES[np.argmax(out2)])\n",
    "#             for i in range(1000):\n",
    "#                 final_result[str(i)].append(out1[0][i].item())\n",
    "#             cap.release()\n",
    "\n",
    "for i,video in tqdm(enumerate(final['video'])):\n",
    "    final_result['video_name'].append(video)    \n",
    "    if video in HarshBraking:\n",
    "        final_result['folder_name'].append('HarshBraking')\n",
    "    elif video in TailGating:\n",
    "        final_result['folder_name'].append('TailGating')\n",
    "    elif video in StopSign:\n",
    "        final_result['folder_name'].append('StopSign')\n",
    "    elif video in SpeedSign:\n",
    "        final_result['folder_name'].append('SpeedSign')\n",
    "        \n",
    "    if len(final['embedding'][i])>1:\n",
    "        final_result['predicted_class'].append(final['prediction'][i][1])\n",
    "        emb=final['embedding'][i][1]\n",
    "        for j in range(1000):\n",
    "            final_result[str(j)].append(emb[j])\n",
    "    else:\n",
    "        final_result['predicted_class'].append(final['prediction'][i][0])\n",
    "        emb=final['embedding'][i][0]\n",
    "        for j in range(1000):\n",
    "            final_result[str(j)].append(emb[j])"
   ]
  },
  {
   "cell_type": "code",
   "execution_count": 259,
   "id": "ed4bf3bb-7a7a-4fe5-81f5-788e07b7dca5",
   "metadata": {},
   "outputs": [],
   "source": []
  },
  {
   "cell_type": "code",
   "execution_count": 247,
   "id": "d4166366-bd9a-4c6a-b562-92180b0c2126",
   "metadata": {},
   "outputs": [],
   "source": [
    "from pytube import YouTube\n",
    "# from moviepy.editor import *"
   ]
  },
  {
   "cell_type": "code",
   "execution_count": 249,
   "id": "f9db54fb-d532-4398-a46b-4a4f71d19b89",
   "metadata": {},
   "outputs": [
    {
     "data": {
      "text/plain": [
       "'/project/a100/rahul/Yolo/Yolo/Foggy weather.mp4'"
      ]
     },
     "execution_count": 249,
     "metadata": {},
     "output_type": "execute_result"
    }
   ],
   "source": [
    "link=\"https://www.youtube.com/watch?v=wlgClFPZg6w\"\n",
    "YouTube(link).streams.filter(only_video=True,file_extension='mp4').first().download()"
   ]
  },
  {
   "cell_type": "code",
   "execution_count": 340,
   "id": "4c9a3ddf-a97a-4e4e-927b-31d234fb2b42",
   "metadata": {},
   "outputs": [
    {
     "name": "stdout",
     "output_type": "stream",
     "text": [
      "[array([0., 1., 0., 0., 0., 0., 0.], dtype=float32)]\n",
      "[array([0., 1., 0., 0., 0., 0., 0.], dtype=float32)]\n"
     ]
    }
   ],
   "source": [
    "cap=cv2.VideoCapture(\"foggy.mp4\")\n",
    "frame=250\n",
    "img_size=(640,640)\n",
    "pred_cls=[]\n",
    "while True:\n",
    "    cap.set(cv2.CAP_PROP_POS_FRAMES, frame)\n",
    "    ret,image=cap.read()\n",
    "    if not ret:\n",
    "        break\n",
    "        \n",
    "    frame+=100\n",
    "    image=np.array(cv2.resize(image,img_size),dtype=np.float32)\n",
    "    out2=model2.forward_test(torch.from_numpy(image).view(1,3,img_size[0],img_size[1]))\n",
    "    pred_cls.append(CLASSES[np.argmax(out2)])\n",
    "    print(out2)\n",
    "    \n",
    "cap.release()"
   ]
  },
  {
   "cell_type": "code",
   "execution_count": 2,
   "id": "706604ff-4054-4c3a-8f50-21fb6f045946",
   "metadata": {},
   "outputs": [],
   "source": [
    "# weights_file1 = \"LM_FF_Mar_28_2_2022_Speed_Stop_Vehicle_416_256.weights\"\n",
    "# cfg_file1 = \"LM_FF_America_Speed_Stop_vehicles_416_256.cfg\"\n",
    "# class_file1 = \"class.txt\"\n",
    "img_size1=(416,256)\n",
    "\n",
    "weights_file2 = \"TinyYolov3/Weight_files/yolov3-tiny-america_best.weights\"\n",
    "cfg_file2 = \"TinyYolov3/Cfg_files/yolov3-tiny-america.cfg\"\n",
    "class_file2=\"TinyYolov3/Class_files/america_classes.txt\"\n",
    "img_size2=(416,416)\n",
    "\n",
    "scale=0.00392\n",
    "fps=10.0\n",
    "W,H=640, 360\n",
    "Width,Height=640, 360\n",
    "classes = ['USSpeedSign', 'StopSign', 'Vehicle']\n",
    "\n",
    "with open('../../false_pos.pickle' ,'rb') as f:\n",
    "    false_pos = pickle.load(f)\n",
    "\n",
    "# with open('img_idx.pickle', 'rb') as f:\n",
    "#   img_idx = pickle.load(f)\n",
    "\n",
    "# img, idx = img_idx['imname']\n",
    "\n",
    "# fp_idx = np.load('../../fp_idx.npy')\n",
    "\n",
    "# images_a = visual['images']\n",
    "\n",
    "im_pic = false_pos['images']\n",
    "idxs, imname = false_pos['idxs'], false_pos['imname']\n",
    "# net1 = cv2.dnn.readNet(weights_file1,cfg_file1)\n",
    "net1 = cv2.dnn.readNet(weights_file2,cfg_file2)\n",
    "with open(class_file2, 'r') as f:\n",
    "    america_class_names1 = [line.strip() for line in f.readlines()]\n",
    "\n",
    "# with open(class_file1, 'r') as f:\n",
    "#     america_class_names1 = [line.strip() for line in f.readlines()]\n",
    "\n",
    "COLORS = np.random.uniform(0, 255, size=(len(america_class_names2), 3))\n",
    "def get_output_layers(net):\n",
    "    layer_names = net.getLayerNames()\n",
    "    output_layers = [layer_names[i - 1] for i in net.getUnconnectedOutLayers()]\n",
    "    return output_layers\n",
    "\n",
    "def draw_bounding_box(img, cnames, class_id, confidence, x, y, x_plus_w, y_plus_h):\n",
    "    label = str(cnames[class_id])\n",
    "    color = COLORS[class_id]\n",
    "    cv2.rectangle(img, (x, y), (x_plus_w, y_plus_h), color, 2)\n",
    "    cv2.putText(img, label, (x-10, y-10), cv2.FONT_HERSHEY_SIMPLEX, 0.5, color, 2)\n",
    "    return img"
   ]
  },
  {
   "cell_type": "code",
   "execution_count": 11,
   "id": "bbbfa809",
   "metadata": {},
   "outputs": [
    {
     "name": "stderr",
     "output_type": "stream",
     "text": [
      "100%|██████████| 62/62 [00:33<00:00,  1.84it/s]\n"
     ]
    }
   ],
   "source": [
    "vid_out=cv2.VideoWriter(\"false_pos.mp4\",cv2.VideoWriter_fourcc(*'mp4v'),1,(W,H))\n",
    "for img_name in tqdm(im_pic.keys()):\n",
    "    image = np.array(im_pic[img_name], dtype=np.uint8)\n",
    "    gray_image= cv2.cvtColor(image, cv2.COLOR_BGR2GRAY)\n",
    "    blob1 = cv2.dnn.blobFromImage(gray_image, scale, img_size1, (0,0,0), True, crop=False)\n",
    "    blob2 = cv2.dnn.blobFromImage(image, scale, img_size2, (0,0,0), True, crop=False)\n",
    "    net1.setInput(blob1)\n",
    "    net2.setInput(blob2)\n",
    "    outs1 = net1.forward(get_output_layers(net1))\n",
    "    outs2 = net2.forward(get_output_layers(net2))\n",
    "    class_ids1 = []\n",
    "    confidences1 = []\n",
    "    boxes1 = []\n",
    "    conf_threshold = 0.3\n",
    "    nms_threshold = 0.4\n",
    "    count1 = 0\n",
    "    for out1 in outs1:\n",
    "        for detection1 in out1:\n",
    "            scores1=detection1[5:]\n",
    "            count1 += 1\n",
    "            class_id1 = np.argmax(scores1)\n",
    "            confidence1 = scores1[class_id1]\n",
    "            if confidence1 > conf_threshold:\n",
    "                center_x = int(detection1[0] * Width)\n",
    "                center_y = int(detection1[1] * Height)\n",
    "                w = int(detection1[2] * Width)\n",
    "                h = int(detection1[3] * Height)\n",
    "                x = center_x - w / 2\n",
    "                y = center_y - h / 2\n",
    "                class_ids1.append(class_id1)\n",
    "                confidences1.append(float(confidence1))\n",
    "                boxes1.append([x, y, w, h])\n",
    "    indices1 = cv2.dnn.NMSBoxes(boxes1, confidences1, conf_threshold, nms_threshold)\n",
    "    for i in indices1:\n",
    "        number = 0\n",
    "        box = boxes1[i]\n",
    "        x = max(int(box[0]),0)\n",
    "        y = max(int(box[1]),0)\n",
    "        w = int(box[2])\n",
    "        h = int(box[3])\n",
    "        cv2.rectangle(image, (x, y), (x+w, y+h), (255,0,0), 2)\n",
    "        cv2.putText(image, america_class_names1[class_ids1[i]]+' LMFF,'+ str(\"%.2f\"%confidences1[i]), (x-10, y-10), cv2.FONT_HERSHEY_SIMPLEX, 0.5, (255,0,0), 2)\n",
    "\n",
    "\n",
    "    class_ids2 = []\n",
    "    confidences2 = []\n",
    "    boxes2 = []\n",
    "    count2 = 0\n",
    "    for out2 in outs2:\n",
    "        for detection2 in out2:\n",
    "            scores2=detection2[5:]\n",
    "            count2 += 1\n",
    "            class_id2 = np.argmax(scores2)\n",
    "            confidence2 = scores2[class_id2]\n",
    "            if confidence2 > conf_threshold:\n",
    "                center_x = int(detection2[0] * Width)\n",
    "                center_y = int(detection2[1] * Height)\n",
    "                w = int(detection2[2] * Width)\n",
    "                h = int(detection2[3] * Height)\n",
    "                x = center_x - w / 2\n",
    "                y = center_y - h / 2\n",
    "                class_ids2.append(class_id2)\n",
    "                confidences2.append(float(confidence2))\n",
    "                boxes2.append([x, y, w, h])\n",
    "    indices2 = cv2.dnn.NMSBoxes(boxes2, confidences2, conf_threshold, nms_threshold)\n",
    "    for i in indices2:\n",
    "        number = 0\n",
    "        box = boxes2[i]\n",
    "        x = max(int(box[0]),0)\n",
    "        y = max(int(box[1]),0)\n",
    "        w = int(box[2])\n",
    "        h = int(box[3])\n",
    "        cv2.rectangle(image, (x, y), (x+w, y+h), (0,255,0), 2)\n",
    "        cv2.putText(image, america_class_names2[class_ids2[i]]+' AM,'+ str(\"%.2f\"%confidences2[i]), (x-10, y-10), cv2.FONT_HERSHEY_SIMPLEX, 0.5, (0,255,0), 2)\n",
    "    cv2.putText(image, str(imname.index(img_name)), (0,20), cv2.FONT_HERSHEY_SIMPLEX, 0.5, (0,255,0), 2)\n",
    "    vid_out.write(image)\n",
    "vid_out.release()"
   ]
  },
  {
   "cell_type": "code",
   "execution_count": 4,
   "id": "6da23d30",
   "metadata": {},
   "outputs": [],
   "source": [
    "path='roi_lmff1'\n",
    "if not os.path.exists(path):\n",
    "    os.mkdir(path)\n",
    "img_idx={'crop_name':[], 'imname': [], 'label': [], 'conf': [], 'bbox': []}\n",
    "for subdir, dirs, files in os.walk('lightmetrics_pic'):\n",
    "    for num,file in enumerate(files):\n",
    "        if '.jpg' in file:\n",
    "            image = cv2.imread(os.path.join(subdir, file))\n",
    "            gray_image= cv2.cvtColor(image, cv2.COLOR_BGR2GRAY)\n",
    "            blob = cv2.dnn.blobFromImage(gray_image, scale, img_size, (0,0,0), True, crop=False)\n",
    "            net.setInput(blob)\n",
    "            outs1 = net.forward(get_output_layers(net))\n",
    "            class_ids1 = []\n",
    "            confidences1 = []\n",
    "            boxes1 = []\n",
    "            conf_threshold = 0.3\n",
    "            nms_threshold = 0.4\n",
    "            count1 = 0\n",
    "            for out1 in outs1:\n",
    "                for detection1 in out1:\n",
    "                    scores1=detection1[5:]\n",
    "                    count1 += 1\n",
    "                    class_id1 = np.argmax(scores1)\n",
    "                    confidence1 = scores1[class_id1]\n",
    "                    if confidence1 > conf_threshold:\n",
    "                        center_x = int(detection1[0] * Width)\n",
    "                        center_y = int(detection1[1] * Height)\n",
    "                        w = int(detection1[2] * Width)\n",
    "                        h = int(detection1[3] * Height)\n",
    "                        x = center_x - w / 2\n",
    "                        y = center_y - h / 2\n",
    "                        class_ids1.append(class_id1)\n",
    "                        confidences1.append(float(confidence1))\n",
    "                        boxes1.append([x, y, w, h])\n",
    "            indices1 = cv2.dnn.NMSBoxes(boxes1, confidences1, conf_threshold, nms_threshold)\n",
    "            for i in indices1:\n",
    "                number = 0\n",
    "                box = boxes1[i]\n",
    "                x = max(int(box[0]),0)\n",
    "                y = max(int(box[1]),0)\n",
    "                w = int(box[2])\n",
    "                h = int(box[3])\n",
    "                label = america_class_names[class_ids1[i]]\n",
    "                dst = os.path.join(path, label)\n",
    "                if not os.path.exists(dst):\n",
    "                    os.mkdir(dst)\n",
    "                crop_name = file.split('.')[0]+'____10_'+label+'_'+str(i)+'.jpg'\n",
    "                cv2.imwrite(os.path.join(dst,crop_name), image[y:y+h, x:x+w]) # num\n",
    "\n",
    "                img_idx['imname'].append(file)\n",
    "                img_idx['crop_name'].append(crop_name)\n",
    "                img_idx['label'].append(label)\n",
    "                img_idx['conf'].append(confidences1[i])\n",
    "                img_idx['bbox'].append([x,y,w,h])"
   ]
  },
  {
   "cell_type": "code",
   "execution_count": 5,
   "id": "fe72ee19",
   "metadata": {},
   "outputs": [
    {
     "data": {
      "text/plain": [
       "['eventVideo_stop_sign_trip_master_2022_03_07_18_42_30_841_DF4B19E0366CBFF948266CD981333D6A872D682D_4l8fy_5_2022_03_07_19_53_43_511_primary.jpg',\n",
       " 'eventVideo_stop_sign_trip_master_2022_05_30_17_13_38_504_2DFC1BCEF31DF0D454A86B68D9CC478B5AE59A37_VvYC4_6_2022_05_30_18_12_00_167_primary.jpg',\n",
       " 'eventVideo_stop_sign_trip_master_2022_05_30_17_13_38_504_2DFC1BCEF31DF0D454A86B68D9CC478B5AE59A37_VvYC4_6_2022_05_30_18_12_00_167_primary.jpg']"
      ]
     },
     "execution_count": 5,
     "metadata": {},
     "output_type": "execute_result"
    }
   ],
   "source": [
    "img_idx['imname'][:3]"
   ]
  },
  {
   "cell_type": "code",
   "execution_count": 6,
   "id": "15621abf",
   "metadata": {},
   "outputs": [],
   "source": [
    "with open('light_met_crop_lmff1.pickle', 'wb') as f:\n",
    "    pickle.dump(img_idx, f)"
   ]
  },
  {
   "cell_type": "code",
   "execution_count": 1,
   "id": "3e2bf0a9",
   "metadata": {},
   "outputs": [],
   "source": [
    "import os, cv2, pickle, shutil"
   ]
  },
  {
   "cell_type": "code",
   "execution_count": 4,
   "id": "899b3dcd",
   "metadata": {},
   "outputs": [],
   "source": [
    "with open('../../lmff1.pickle' ,'rb') as f:\n",
    "    lmff = pickle.load(f)\n",
    "\n",
    "clas_a, images_a, embed1_a, metadata_a, color_a, clss_a = lmff['clas'], lmff['images'], lmff['embeddings'], lmff['metadata'], lmff['colors'], lmff['cls']"
   ]
  },
  {
   "cell_type": "code",
   "execution_count": 18,
   "id": "935cb767",
   "metadata": {},
   "outputs": [],
   "source": [
    "for i in range(len(clss_a)):\n",
    "    if metadata_a[i] == 'lmff' and clss_a[i] == 'StopSign' and embed1_a[i][0]>5:\n",
    "        shutil.copy(os.path.join('roi_lmff/StopSign',clas_a[i]+'.jpg'),os.path.join('false_positives/lmff/StopSign', clas_a[i]+'.jpg'))\n",
    "        idx = clas_a[i].split('_')[-1]\n",
    "        for subdir, dirs, files in os.walk('roi_america'):\n",
    "            for file in files:\n",
    "                if '.jpg' in file:\n",
    "                    if idx == file.split('.')[0].split('_')[-1]:\n",
    "                        src = os.path.join(subdir, file)\n",
    "                        ds = os.path.join('false_positives/america', subdir.split('/')[-1])\n",
    "                        if not os.path.exists(ds):\n",
    "                            os.mkdir(ds)\n",
    "                        dst = os.path.join(ds, file)\n",
    "                        shutil.copy(src, dst)\n"
   ]
  },
  {
   "cell_type": "code",
   "execution_count": 17,
   "id": "9741bf8b",
   "metadata": {},
   "outputs": [
    {
     "data": {
      "text/plain": [
       "'17'"
      ]
     },
     "execution_count": 17,
     "metadata": {},
     "output_type": "execute_result"
    }
   ],
   "source": [
    "clas_a[0].split('_')[-1]"
   ]
  },
  {
   "attachments": {},
   "cell_type": "markdown",
   "id": "4f54e8d9",
   "metadata": {},
   "source": [
    "## Metapix"
   ]
  },
  {
   "cell_type": "code",
   "execution_count": 10,
   "id": "cba6972d",
   "metadata": {},
   "outputs": [],
   "source": [
    "import os, cv2, pickle\n",
    "import numpy as np\n",
    "from tqdm import tqdm\n",
    "import pandas as pd\n",
    "import shutil"
   ]
  },
  {
   "cell_type": "code",
   "execution_count": 2,
   "id": "cc499074",
   "metadata": {},
   "outputs": [
    {
     "data": {
      "text/plain": [
       "{'black',\n",
       " 'blue',\n",
       " 'brown',\n",
       " 'green',\n",
       " 'grey',\n",
       " 'no',\n",
       " 'orange',\n",
       " 'purple',\n",
       " 'red',\n",
       " 'silver',\n",
       " 'white'}"
      ]
     },
     "execution_count": 2,
     "metadata": {},
     "output_type": "execute_result"
    }
   ],
   "source": [
    "df = pd.read_csv('../../consolidated.csv')\n",
    "set(df['label'])"
   ]
  },
  {
   "cell_type": "code",
   "execution_count": 9,
   "id": "17ed1ad3",
   "metadata": {},
   "outputs": [
    {
     "data": {
      "text/plain": [
       "'black'"
      ]
     },
     "execution_count": 9,
     "metadata": {},
     "output_type": "execute_result"
    }
   ],
   "source": [
    "df['label'][90] in colors"
   ]
  },
  {
   "cell_type": "code",
   "execution_count": 37,
   "id": "1d05bd3c",
   "metadata": {},
   "outputs": [
    {
     "ename": "",
     "evalue": "",
     "output_type": "error",
     "traceback": [
      "\u001b[1;31mThe Kernel crashed while executing code in the the current cell or a previous cell. Please review the code in the cell(s) to identify a possible cause of the failure. Click <a href='https://aka.ms/vscodeJupyterKernelCrash'>here</a> for more info. View Jupyter <a href='command:jupyter.viewOutput'>log</a> for further details."
     ]
    }
   ],
   "source": [
    "path = 'metapix'\n",
    "out_path = 'yolo_crop_metamix'\n",
    "for subdir, dirs, files in os.walk(path):\n",
    "    for file in files:\n",
    "        if '.jpg' in file:\n",
    "            image = cv2.imread(os.path.join(subdir, file))\n",
    "            Height, Width = image.shape[:2]\n",
    "            blob = cv2.dnn.blobFromImage(image, scale, img_size, (0,0,0), True, crop=False)\n",
    "            net.setInput(blob)\n",
    "            outs = net.forward(get_output_layers(net))\n",
    "            max_conf = -1\n",
    "            for out in outs:\n",
    "                for detection in out:\n",
    "                    scores=detection[5:]\n",
    "                    class_id = np.argmax(scores)\n",
    "                    confidence = scores[class_id]\n",
    "                    if confidence > max_conf:\n",
    "                        center_x = int(detection[0] * Width)\n",
    "                        center_y = int(detection[1] * Height)\n",
    "                        w = int(detection[2] * Width)\n",
    "                        h = int(detection[3] * Height)\n",
    "                        x = int(center_x - w / 2)\n",
    "                        y = int(center_y - h / 2)\n",
    "                        max_conf = confidence\n",
    "            if not os.path.exists(os.path.join(out_path, subdir.split('/')[-2], subdir.split('/')[-1])):\n",
    "                os.mkdir(os.path.join(out_path, subdir.split('/')[-2], subdir.split('/')[-1]))\n",
    "            crop_img = image[y:y+h, x:x+w]\n",
    "            if crop_img.shape[0]>0 and crop_img.shape[1]>0:\n",
    "                cv2.imwrite(os.path.join(out_path, subdir.split('/')[-2], subdir.split('/')[-1], file), crop_img)"
   ]
  },
  {
   "cell_type": "code",
   "execution_count": 19,
   "id": "6e72cf3b",
   "metadata": {},
   "outputs": [],
   "source": [
    "with open('../../metamix.pickle', 'wb') as f:\n",
    "    pickle.dump({'rgb': rgb, 'imname': imname, 'images': images, 'lbl': lbl, 'match': match}, f)"
   ]
  },
  {
   "cell_type": "code",
   "execution_count": 35,
   "id": "eebeaacb",
   "metadata": {},
   "outputs": [
    {
     "data": {
      "text/plain": [
       "(array([], shape=(13, 0, 3), dtype=uint8), 0.0, -2, 0, 27, 13, (142, 244, 3))"
      ]
     },
     "execution_count": 35,
     "metadata": {},
     "output_type": "execute_result"
    }
   ],
   "source": [
    "image[y:y+h, x:x+w], max_conf, x,y,w,h,image.shape"
   ]
  },
  {
   "cell_type": "code",
   "execution_count": 36,
   "id": "f8b1f261",
   "metadata": {},
   "outputs": [
    {
     "data": {
      "text/plain": [
       "13"
      ]
     },
     "execution_count": 36,
     "metadata": {},
     "output_type": "execute_result"
    }
   ],
   "source": [
    "len(image[y:y+h, x:x+w])"
   ]
  },
  {
   "cell_type": "code",
   "execution_count": 2,
   "id": "a72fd5c5",
   "metadata": {},
   "outputs": [],
   "source": [
    "df = pd.read_csv('../../consolidated.csv')\n",
    "label, match = df['label'], df['match']\n",
    "label = label.replace(['no'], ['pink'])"
   ]
  },
  {
   "cell_type": "code",
   "execution_count": 13,
   "id": "923928f0",
   "metadata": {},
   "outputs": [
    {
     "data": {
      "text/plain": [
       "(array(['black', 'blue', 'brown', 'green', 'grey', 'no', 'orange',\n",
       "        'purple', 'red', 'silver', 'white'], dtype=object),\n",
       " array([203,  58,   2,  13,  80, 185,   3,   3,  49, 184, 205]))"
      ]
     },
     "execution_count": 13,
     "metadata": {},
     "output_type": "execute_result"
    }
   ],
   "source": [
    "np.unique(np.array(df['label']), return_counts=True)"
   ]
  },
  {
   "cell_type": "code",
   "execution_count": 1,
   "id": "f037da9c",
   "metadata": {},
   "outputs": [],
   "source": [
    "import numpy as np\n",
    "missing_image = np.load('../../missing_image.npy')"
   ]
  },
  {
   "cell_type": "code",
   "execution_count": 3,
   "id": "fe570ded",
   "metadata": {},
   "outputs": [
    {
     "data": {
      "text/plain": [
       "array(['0d682aa8-818e-436d-8cda-eb7a95f60dec.jpg',\n",
       "       '0dd19618-7a6d-435c-a921-cf24c83bc744.jpg',\n",
       "       '0a334e8f-080d-4109-a4d7-83e4c61e3ad1.jpg',\n",
       "       '0aef6170-9c48-4376-adc0-d8dbea7586b8.jpg',\n",
       "       '00a3af7c-3214-4665-a2df-a05600c72029.jpg',\n",
       "       '0c074cef-13f9-4c55-b5a5-5f6c53958f76.jpg',\n",
       "       '0b501543-567e-456d-b883-31ca5a2bd271.jpg',\n",
       "       '0d7e2e28-e87d-4584-b411-fd6dcc74cbcb.jpg',\n",
       "       '0ae0df2b-e98a-49fd-9241-a88609146c19.jpg',\n",
       "       '0a3461be-7d39-4a1d-ab18-a4e39f3ee88b.jpg',\n",
       "       '0c190cec-53ac-415e-9dbf-30293f85b913.jpg',\n",
       "       '0ac87efe-bfb1-41fd-9768-7c37ae08a149.jpg'], dtype='<U40')"
      ]
     },
     "execution_count": 3,
     "metadata": {},
     "output_type": "execute_result"
    }
   ],
   "source": [
    "missing_image[-12:]"
   ]
  },
  {
   "cell_type": "code",
   "execution_count": null,
   "id": "243b86a8",
   "metadata": {},
   "outputs": [],
   "source": []
  }
 ],
 "metadata": {
  "kernelspec": {
   "display_name": "Python 3",
   "language": "python",
   "name": "python3"
  },
  "language_info": {
   "codemirror_mode": {
    "name": "ipython",
    "version": 3
   },
   "file_extension": ".py",
   "mimetype": "text/x-python",
   "name": "python",
   "nbconvert_exporter": "python",
   "pygments_lexer": "ipython3",
   "version": "3.8.2"
  },
  "vscode": {
   "interpreter": {
    "hash": "31f2aee4e71d21fbe5cf8b01ff0e069b9275f58929596ceb00d14d90e3e16cd6"
   }
  }
 },
 "nbformat": 4,
 "nbformat_minor": 5
}
