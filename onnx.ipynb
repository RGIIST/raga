{
 "cells": [
  {
   "cell_type": "code",
   "execution_count": 6,
   "id": "37a5f022-1be3-4512-b703-0176ace19c3a",
   "metadata": {},
   "outputs": [],
   "source": [
    "# path='dataset/video/urg3.mp4'\n",
    "# out_path='dataset/image/urg3'\n",
    "# cap=cv2.VideoCapture(path)\n",
    "# frame=0\n",
    "# while True:\n",
    "#     ret,image=cap.read()\n",
    "#     if not ret:\n",
    "#         break\n",
    "#     image=cv2.resize(image,(300,300))\n",
    "#     cv2.imwrite(os.path.join(out_path,'img_%s'%(frame)+'.jpg'),image)\n",
    "#     frame+=1\n",
    "# cap.release()    "
   ]
  },
  {
   "cell_type": "code",
   "execution_count": 19,
   "id": "5a938de4-92bf-403c-910a-4c7593c20623",
   "metadata": {},
   "outputs": [],
   "source": [
    "import onnxruntime\n",
    "import onnx\n",
    "import json\n",
    "import numpy as np\n",
    "import cv2, os"
   ]
  },
  {
   "cell_type": "code",
   "execution_count": 20,
   "id": "0696ec02-d3d4-44d9-9cb9-888b36898ebd",
   "metadata": {},
   "outputs": [
    {
     "name": "stderr",
     "output_type": "stream",
     "text": [
      "2022-12-15 08:44:16.378909366 [W:onnxruntime:Default, onnxruntime_pybind_state.cc:509 CreateExecutionProviderInstance] Failed to create TensorrtExecutionProvider. Please reference https://onnxruntime.ai/docs/execution-providers/TensorRT-ExecutionProvider.html#requirements to ensure all dependencies are met.\n"
     ]
    }
   ],
   "source": [
    "session=onnxruntime.InferenceSession('models/mb1-ssd-BDD-all-Epoch-199-Loss-3.2500881144874976kkk.onnx',providers=['TensorrtExecutionProvider', 'CUDAExecutionProvider', 'CPUExecutionProvider'])\n",
    "input_name=session.get_inputs()[0].name\n",
    "output_name1=session.get_outputs()[0].name\n",
    "output_name2=session.get_outputs()[1].name"
   ]
  },
  {
   "cell_type": "code",
   "execution_count": 22,
   "id": "473a6830-1706-4412-83a5-3f57ec9476c6",
   "metadata": {},
   "outputs": [
    {
     "ename": "KeyboardInterrupt",
     "evalue": "",
     "output_type": "error",
     "traceback": [
      "\u001b[0;31m---------------------------------------------------------------------------\u001b[0m",
      "\u001b[0;31mKeyboardInterrupt\u001b[0m                         Traceback (most recent call last)",
      "Input \u001b[0;32mIn [22]\u001b[0m, in \u001b[0;36m<cell line: 6>\u001b[0;34m()\u001b[0m\n\u001b[1;32m     19\u001b[0m     cv2\u001b[38;5;241m.\u001b[39mrectangle(orig_image, (box[\u001b[38;5;241m0\u001b[39m], box[\u001b[38;5;241m1\u001b[39m]), (box[\u001b[38;5;241m2\u001b[39m], box[\u001b[38;5;241m3\u001b[39m]), (\u001b[38;5;241m0\u001b[39m,\u001b[38;5;241m255\u001b[39m,\u001b[38;5;241m0\u001b[39m), \u001b[38;5;241m1\u001b[39m)\n\u001b[1;32m     20\u001b[0m     cv2\u001b[38;5;241m.\u001b[39mputText(orig_image, \u001b[38;5;124m'\u001b[39m\u001b[38;5;124mlabel: \u001b[39m\u001b[38;5;124m'\u001b[39m \u001b[38;5;241m+\u001b[39m \u001b[38;5;28mstr\u001b[39m(np\u001b[38;5;241m.\u001b[39margmax(result[\u001b[38;5;241m0\u001b[39m][\u001b[38;5;241m0\u001b[39m][i]))\u001b[38;5;241m+\u001b[39m\u001b[38;5;124m'\u001b[39m\u001b[38;5;124m, \u001b[39m\u001b[38;5;124m'\u001b[39m\u001b[38;5;241m+\u001b[39m\u001b[38;5;124m'\u001b[39m\u001b[38;5;124mconf: \u001b[39m\u001b[38;5;124m'\u001b[39m\u001b[38;5;241m+\u001b[39m\u001b[38;5;28mstr\u001b[39m(conf),\n\u001b[1;32m     21\u001b[0m                 (box[\u001b[38;5;241m0\u001b[39m] \u001b[38;5;241m-\u001b[39m \u001b[38;5;241m10\u001b[39m, box[\u001b[38;5;241m1\u001b[39m] \u001b[38;5;241m-\u001b[39m \u001b[38;5;241m10\u001b[39m),\n\u001b[1;32m     22\u001b[0m                 cv2\u001b[38;5;241m.\u001b[39mFONT_HERSHEY_SIMPLEX,\n\u001b[1;32m     23\u001b[0m                 \u001b[38;5;241m.25\u001b[39m,  \u001b[38;5;66;03m# font scale\u001b[39;00m\n\u001b[1;32m     24\u001b[0m                 (\u001b[38;5;241m255\u001b[39m,\u001b[38;5;241m0\u001b[39m,\u001b[38;5;241m0\u001b[39m),\n\u001b[1;32m     25\u001b[0m                 \u001b[38;5;241m1\u001b[39m)\n\u001b[0;32m---> 26\u001b[0m \u001b[43mcv2\u001b[49m\u001b[38;5;241;43m.\u001b[39;49m\u001b[43mimwrite\u001b[49m\u001b[43m(\u001b[49m\u001b[43mos\u001b[49m\u001b[38;5;241;43m.\u001b[39;49m\u001b[43mpath\u001b[49m\u001b[38;5;241;43m.\u001b[39;49m\u001b[43mjoin\u001b[49m\u001b[43m(\u001b[49m\u001b[38;5;124;43m\"\u001b[39;49m\u001b[38;5;124;43mimages/onnx_ces\u001b[39;49m\u001b[38;5;124;43m\"\u001b[39;49m\u001b[43m,\u001b[49m\u001b[43mimg\u001b[49m\u001b[43m)\u001b[49m\u001b[43m,\u001b[49m\u001b[43mcv2\u001b[49m\u001b[38;5;241;43m.\u001b[39;49m\u001b[43mresize\u001b[49m\u001b[43m(\u001b[49m\u001b[43morig_image\u001b[49m\u001b[43m,\u001b[49m\u001b[43m(\u001b[49m\u001b[43mw\u001b[49m\u001b[43m,\u001b[49m\u001b[43mh\u001b[49m\u001b[43m)\u001b[49m\u001b[43m)\u001b[49m\u001b[43m)\u001b[49m\n",
      "\u001b[0;31mKeyboardInterrupt\u001b[0m: "
     ]
    }
   ],
   "source": [
    "img_list=os.listdir(\"images/demo_ces\")\n",
    "# out1=cv2.VideoWriter(\"results/foggy.mp4\",cv2.VideoWriter_fourcc(*'XVID'),10.0,(300, 300))\n",
    "# out2=cv2.VideoWriter(\"results/foggy1.mp4\",cv2.VideoWriter_fourcc(*'XVID'),10.0,(3840, 2160))\n",
    "conf_thres=0\n",
    "\n",
    "for img in img_list:\n",
    "    orig_image=cv2.imread(os.path.join(\"images/demo_ces\",img))\n",
    "    h,w,_=orig_image.shape\n",
    "    image=cv2.cvtColor(orig_image,cv2.COLOR_BGR2RGB)\n",
    "    image=cv2.resize(image,(300,300))\n",
    "    image=image.reshape(1,3,300,300)\n",
    "    image=np.array(image,dtype=np.float32)/255\n",
    "    result=session.run([output_name1,output_name2],{input_name:image})\n",
    "    for i in range(3000):\n",
    "        conf=max(result[0][0][i])\n",
    "        if conf>conf_thres:\n",
    "            box=result[1][0][i]\n",
    "            box=np.array(box*300,dtype=np.uint8)\n",
    "            cv2.rectangle(orig_image, (box[0], box[1]), (box[2], box[3]), (0,255,0), 1)\n",
    "            cv2.putText(orig_image, 'label: ' + str(np.argmax(result[0][0][i]))+', '+'conf: '+str(conf),\n",
    "                        (box[0] - 10, box[1] - 10),\n",
    "                        cv2.FONT_HERSHEY_SIMPLEX,\n",
    "                        .25,  # font scale\n",
    "                        (255,0,0),\n",
    "                        1)\n",
    "        cv2.imwrite(os.path.join(\"images/onnx_ces\",img),cv2.resize(orig_image,(w,h)))\n",
    "    # out1.write(orig_image)\n",
    "    # out2.write(cv2.resize(orig_image,(3840, 2160)))\n",
    "    \n",
    "# out1.release()\n",
    "# out2.release()"
   ]
  },
  {
   "cell_type": "code",
   "execution_count": 49,
   "id": "a315050d-3740-47fd-a112-46a089e0db6d",
   "metadata": {},
   "outputs": [],
   "source": [
    "# with open(\"../dataset/ces_v1.json\",'r') as file:\n",
    "#     k=json.load(file)\n",
    "    \n",
    "# with open(\"../dataset/instances_default.json\",'r') as file:\n",
    "#     d=json.load(file)   "
   ]
  },
  {
   "cell_type": "code",
   "execution_count": 18,
   "id": "b0a4dbdb-246e-4de0-850e-4f89b69865a7",
   "metadata": {},
   "outputs": [
    {
     "data": {
      "text/plain": [
       "1080"
      ]
     },
     "execution_count": 18,
     "metadata": {},
     "output_type": "execute_result"
    }
   ],
   "source": [
    "len(os.listdir(\"images/demo_ces\"))"
   ]
  },
  {
   "cell_type": "code",
   "execution_count": 24,
   "id": "07672205-87c2-4d0c-ab54-8cba297d2edb",
   "metadata": {},
   "outputs": [
    {
     "name": "stdout",
     "output_type": "stream",
     "text": [
      "Archive:  images/SampleFrames_for_Baselineline.zip\n",
      "  inflating: SampleFrames_for_Baselineline/frame00434.jpg  \n",
      "  inflating: SampleFrames_for_Baselineline/frame00435.jpg  \n",
      "  inflating: SampleFrames_for_Baselineline/frame00436.jpg  \n",
      "  inflating: SampleFrames_for_Baselineline/frame00437.jpg  \n",
      "  inflating: SampleFrames_for_Baselineline/frame00438.jpg  \n",
      "  inflating: SampleFrames_for_Baselineline/frame00439.jpg  \n",
      "  inflating: SampleFrames_for_Baselineline/frame00440.jpg  \n",
      "  inflating: SampleFrames_for_Baselineline/frame00441.jpg  \n",
      "  inflating: SampleFrames_for_Baselineline/frame00442.jpg  \n",
      "  inflating: SampleFrames_for_Baselineline/frame00443.jpg  \n",
      "  inflating: SampleFrames_for_Baselineline/frame00444.jpg  \n",
      "  inflating: SampleFrames_for_Baselineline/frame00445.jpg  \n",
      "  inflating: SampleFrames_for_Baselineline/frame00446.jpg  \n",
      "  inflating: SampleFrames_for_Baselineline/frame00447.jpg  \n",
      "  inflating: SampleFrames_for_Baselineline/frame00448.jpg  \n",
      "  inflating: SampleFrames_for_Baselineline/frame00449.jpg  \n",
      "  inflating: SampleFrames_for_Baselineline/frame00450.jpg  \n",
      "  inflating: SampleFrames_for_Baselineline/frame00451.jpg  \n",
      "  inflating: SampleFrames_for_Baselineline/frame00452.jpg  \n",
      "  inflating: SampleFrames_for_Baselineline/frame00453.jpg  \n",
      "  inflating: SampleFrames_for_Baselineline/frame00454.jpg  \n",
      "  inflating: SampleFrames_for_Baselineline/frame00455.jpg  \n",
      "  inflating: SampleFrames_for_Baselineline/frame00456.jpg  \n",
      "  inflating: SampleFrames_for_Baselineline/frame00457.jpg  \n",
      "  inflating: SampleFrames_for_Baselineline/frame00458.jpg  \n",
      "  inflating: SampleFrames_for_Baselineline/frame00459.jpg  \n"
     ]
    }
   ],
   "source": [
    "!unzip \"images/SampleFrames_for_Baselineline.zip\""
   ]
  },
  {
   "cell_type": "code",
   "execution_count": 175,
   "id": "20b5b623-6615-4f36-a799-c33977b1a484",
   "metadata": {},
   "outputs": [],
   "source": [
    "img='../../nandan/Experiments/CES/car_datasets/day_update/00054602-3bf57337.jpg'\n",
    "orig_image=cv2.imread(img)\n",
    "orig_image=cv2.resize(orig_image,(300,300))\n",
    "image=cv2.cvtColor(orig_image,cv2.COLOR_BGR2RGB)\n",
    "image=image.reshape(1,3,300,300)\n",
    "image=np.array(image,dtype=np.float32)/255\n",
    "result=session.run([output_name1,output_name2],{input_name:image})\n",
    "# for i in range(3000):\n",
    "#     conf=max(result[0][0][i])\n",
    "#     if conf>conf_thres:\n",
    "#         box=result[1][0][i]\n",
    "#         box=np.array(box*300,dtype=np.uint8)\n",
    "        \n",
    "new_result=result[0][0][:,1:]\n",
    "conf=[]\n",
    "label=[]\n",
    "for i in range(3000):\n",
    "    conf.append(max(new_result[i]))\n",
    "    label.append(np.argmax(new_result[i]))"
   ]
  },
  {
   "cell_type": "code",
   "execution_count": 176,
   "id": "976450dd-d1a2-410a-926e-72d99f0ec11b",
   "metadata": {},
   "outputs": [
    {
     "data": {
      "text/plain": [
       "(0.13718973, 2941, 1)"
      ]
     },
     "execution_count": 176,
     "metadata": {},
     "output_type": "execute_result"
    }
   ],
   "source": [
    "max(conf),conf.index(max(conf)),label[conf.index(max(conf))]"
   ]
  },
  {
   "cell_type": "code",
   "execution_count": 177,
   "id": "d3cf762a-03c2-410c-95c1-7a378cf8c393",
   "metadata": {},
   "outputs": [
    {
     "data": {
      "text/plain": [
       "array([5.8403471e-04, 1.3718973e-01, 7.8167977e-05, 1.6515896e-03,\n",
       "       8.2589562e-05, 1.7848126e-04, 5.9959702e-02, 6.7039909e-05,\n",
       "       1.7642073e-03, 9.8146113e-05], dtype=float32)"
      ]
     },
     "execution_count": 177,
     "metadata": {},
     "output_type": "execute_result"
    }
   ],
   "source": [
    "new_result[conf.index(max(conf))]"
   ]
  },
  {
   "cell_type": "code",
   "execution_count": 178,
   "id": "5f2324aa-001e-4877-a130-a240d472e113",
   "metadata": {},
   "outputs": [
    {
     "data": {
      "text/plain": [
       "[0.12565388, 0.13718973, 0.107024, 0.117163405, 0.112683475]"
      ]
     },
     "execution_count": 178,
     "metadata": {},
     "output_type": "execute_result"
    }
   ],
   "source": [
    "[x for x in conf if x>0.1]"
   ]
  },
  {
   "cell_type": "code",
   "execution_count": 180,
   "id": "5d4b0e75-a488-4b88-a53e-f9f31a809327",
   "metadata": {},
   "outputs": [],
   "source": [
    "with open(\"../dataset/instances_default.json\",'r') as f:\n",
    "    data=json.load(f)"
   ]
  },
  {
   "cell_type": "code",
   "execution_count": 14,
   "id": "b36b70e9-d253-4317-a0e6-48b233d728f6",
   "metadata": {},
   "outputs": [],
   "source": [
    "from tensorflow.python import saved_model\n",
    "import tensorflow as tf"
   ]
  },
  {
   "cell_type": "code",
   "execution_count": 17,
   "id": "5db28ee3-ba33-46de-83ce-12b006d72db1",
   "metadata": {},
   "outputs": [],
   "source": [
    "# model=saved_model.builder.SavedModelBuilder('models/output_path.pb')\n",
    "# model=tf.saved_model.load(\"models/frozen_inference_graph_coco.pb\")\n",
    "# model=tf.keras.models.load_model(\"models/frozen_inference_graph_coco.pb\")\n",
    "\n",
    "# model=tf.keras.models.load_model(\"../../deepak/car_d&n/pytorch-ssd/ver1pb\")"
   ]
  },
  {
   "cell_type": "raw",
   "id": "e320e56a-2d9e-40a8-b36e-d579c389aea5",
   "metadata": {},
   "source": [
    "WARNING:tensorflow:SavedModel saved prior to TF 2.5 detected when loading Keras model. Please ensure that you are saving the model with model.save() or tf.keras.models.save_model(), *NOT* tf.saved_model.save(). To confirm, there should be a file named \"keras_metadata.pb\" in the SavedModel directory."
   ]
  },
  {
   "cell_type": "code",
   "execution_count": 10,
   "id": "36f81d80-c7ab-4894-9d81-f6d597cd5903",
   "metadata": {},
   "outputs": [],
   "source": [
    "# !zip images/base_imp.zip -r images/baseline_images images/improved_model"
   ]
  },
  {
   "cell_type": "code",
   "execution_count": null,
   "id": "44731681-9ad0-431f-b665-f7d25246b4ab",
   "metadata": {},
   "outputs": [],
   "source": [
    "# !apt-get install zip"
   ]
  },
  {
   "cell_type": "code",
   "execution_count": null,
   "id": "422d957a-59e7-453c-afd3-826dbff44351",
   "metadata": {},
   "outputs": [],
   "source": []
  }
 ],
 "metadata": {
  "kernelspec": {
   "display_name": "Python 3 (ipykernel)",
   "language": "python",
   "name": "python3"
  },
  "language_info": {
   "codemirror_mode": {
    "name": "ipython",
    "version": 3
   },
   "file_extension": ".py",
   "mimetype": "text/x-python",
   "name": "python",
   "nbconvert_exporter": "python",
   "pygments_lexer": "ipython3",
   "version": "3.8.10"
  }
 },
 "nbformat": 4,
 "nbformat_minor": 5
}
